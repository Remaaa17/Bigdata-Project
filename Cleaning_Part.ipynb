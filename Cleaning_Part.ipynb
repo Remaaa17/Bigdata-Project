{
 "cells": [
  {
   "cell_type": "code",
   "execution_count": 3,
   "id": "635ee015-612c-48a5-baae-b6bd401f431c",
   "metadata": {},
   "outputs": [],
   "source": [
    "from  pyspark.sql import SparkSession\n",
    "from pyspark.sql import *\n",
    "from pyspark.sql.functions import countDistinct\n",
    "from pyspark.sql import functions as f"
   ]
  },
  {
   "cell_type": "code",
   "execution_count": null,
   "id": "f7011bb7-0796-48bd-8834-b1058b13def7",
   "metadata": {},
   "outputs": [],
   "source": []
  },
  {
   "cell_type": "code",
   "execution_count": 31,
   "id": "87ee7142-ba0a-47a6-b72b-b712b1c3cc6f",
   "metadata": {},
   "outputs": [],
   "source": [
    "spark = SparkSession.builder.appName(\"My_Spark_Project\")\\\n",
    ".config(\"spark.memory.offHeap. enabled\", \"true\") . config(\"spark.memory.offHeap. size\", \"10g\") \\\n",
    ".getOrCreate()"
   ]
  },
  {
   "cell_type": "code",
   "execution_count": 5,
   "id": "dff6069d-cacd-4e85-adc1-9e5e122ddf3f",
   "metadata": {},
   "outputs": [
    {
     "name": "stdout",
     "output_type": "stream",
     "text": [
      "+--------------------+--------------------+--------------------+--------------------+--------------------+--------------------+--------------------+--------------------+--------------------+--------------------+\n",
      "|               Title|         description|             authors|               image|         previewLink|           publisher|       publishedDate|            infoLink|          categories|        ratingsCount|\n",
      "+--------------------+--------------------+--------------------+--------------------+--------------------+--------------------+--------------------+--------------------+--------------------+--------------------+\n",
      "|Its Only Art If I...|                null|    ['Julie Strain']|http://books.goog...|http://books.goog...|                null|                1996|http://books.goog...|['Comics & Graphi...|                null|\n",
      "|Dr. Seuss: Americ...|\"Philip Nel takes...| like that of Lew...| has changed lang...| giving us new wo...| inspiring artist...|      ['Philip Nel']|http://books.goog...|http://books.goog...|           A&C Black|\n",
      "|Wonderful Worship...|This resource inc...|    ['David R. Ray']|http://books.goog...|http://books.goog...|                null|                2000|http://books.goog...|        ['Religion']|                null|\n",
      "|Whispers of the W...|Julia Thomas find...| ['Veronica Haddon']|http://books.goog...|http://books.goog...|           iUniverse|             2005-02|http://books.goog...|         ['Fiction']|                null|\n",
      "|Nation Dance: Rel...|                null|     ['Edward Long']|                null|http://books.goog...|                null|          2003-03-01|http://books.goog...|                null|                null|\n",
      "|The Church of Chr...|In The Church of ...|['Everett Ferguson']|http://books.goog...|http://books.goog...|Wm. B. Eerdmans P...|                1996|http://books.goog...|        ['Religion']|                 5.0|\n",
      "|The Overbury affa...|                null|['Miriam Allen De...|                null|http://books.goog...|                null|                1960|http://books.goog...|                null|                null|\n",
      "|A Walk in the Woo...|                null|    ['Lee Blessing']|                null|http://books.goog...|                null|                1988|http://books.goog...|                null|                 3.0|\n",
      "|Saint Hyacinth of...|The story for chi...|['Mary Fabyan Win...|http://books.goog...|http://books.goog...|     Tan Books & Pub|          2009-01-01|http://books.goog...|['Biography & Aut...|                null|\n",
      "|Rising Sons and D...|Wardell recalls h...|  ['Steven Wardell']|                null|http://books.goog...|  Plympton PressIntl|                1995|http://books.goog...|  ['Social Science']|                null|\n",
      "|Muslim Women's Ch...|Counters the West...|['Camillia Fawzi ...|http://books.goog...|http://books.goog...|    Berg Pub Limited|          1994-02-17|http://books.goog...|        ['Religion']|                null|\n",
      "|Dramatica for Scr...|Dramatica for Scr...|['Armando Salda A...|http://books.goog...|http://books.goog...|                null|             2005-07|http://books.goog...|       ['Reference']|                null|\n",
      "|Mensa Number Puzz...|Acclaimed teacher...|['Evelyn B. Chris...|http://books.goog...|http://books.goog...|            Sky Pony|          2018-11-06|http://books.goog...|['Juvenile Nonfic...|                null|\n",
      "|Vector Quantizati...|\"Herb Caen, a pop...| but the statemen...|              i. e. | data compression...|               audio|              images| and video signal...|['Allen Gersho', ...|http://books.goog...|\n",
      "|A husband for Kutani|First published i...|      ['Frank Owen']|http://books.goog...|http://books.goog...|Pickle Partners P...|          2018-02-27|https://play.goog...|         ['History']|                null|\n",
      "| Gold and greenstone|Sally did most th...|     ['Barry Crump']|                null|http://books.goog...|                null|                2009|http://books.goog...|['New Zealand fic...|                null|\n",
      "|\"The Ultimate Gui...|This collection b...|    ['Fiona Cownie']|http://books.goog...|http://books.goog...|Bloomsbury Publis...|          2010-01-28|https://play.goog...|             ['Law']|                null|\n",
      "|The Repeal of Ret...|\"At a time when A...|       sex educators| and novelists—fr...| Gurstein offers ...|['Rochelle Gurste...|http://books.goog...|http://books.goog...|       Hill and Wang|          2016-01-05|\n",
      "|Overcoming Hypert...|Like a time bomb ...|['Kenneth H. Coop...|http://books.goog...|http://books.goog...|              Bantam|          2012-02-01|https://play.goog...|['Health & Fitness']|                null|\n",
      "|    Alaska Sourdough|\"\"\"Sourdough is a...| as author Ruth A...| this book includ...| three days to on...| there are more t...| loads of time-te...| and plenty of lo...| there are recipe...|     ['Ruth Allman']|\n",
      "+--------------------+--------------------+--------------------+--------------------+--------------------+--------------------+--------------------+--------------------+--------------------+--------------------+\n",
      "only showing top 20 rows\n",
      "\n"
     ]
    }
   ],
   "source": [
    "file_path = r\"C:\\Users\\abdel\\Downloads\\books_data.csv\\books_data.csv\"\n",
    "# Read the CSV file into a DataFrame\n",
    "books_data_df = spark.read.csv(file_path, header=True, inferSchema=True)\n",
    "books_data_df.show()"
   ]
  },
  {
   "cell_type": "code",
   "execution_count": 6,
   "id": "bae3b269-e538-4f93-954d-ba610de651df",
   "metadata": {},
   "outputs": [
    {
     "name": "stdout",
     "output_type": "stream",
     "text": [
      "root\n",
      " |-- Title: string (nullable = true)\n",
      " |-- description: string (nullable = true)\n",
      " |-- authors: string (nullable = true)\n",
      " |-- image: string (nullable = true)\n",
      " |-- previewLink: string (nullable = true)\n",
      " |-- publisher: string (nullable = true)\n",
      " |-- publishedDate: string (nullable = true)\n",
      " |-- infoLink: string (nullable = true)\n",
      " |-- categories: string (nullable = true)\n",
      " |-- ratingsCount: string (nullable = true)\n",
      "\n",
      "Count of dataframe: 212404\n"
     ]
    }
   ],
   "source": [
    "books_data_df.printSchema()\n",
    "print(\"Count of dataframe:\",books_data_df.count())"
   ]
  },
  {
   "cell_type": "code",
   "execution_count": 7,
   "id": "831f918d-de1b-4bfe-be6c-9389f02abea9",
   "metadata": {},
   "outputs": [
    {
     "name": "stdout",
     "output_type": "stream",
     "text": [
      "+-------+--------------------+--------------------+--------------------+--------------------+--------------------+--------------------+--------------------+--------------------+--------------------+--------------------+\n",
      "|summary|               Title|         description|             authors|               image|         previewLink|           publisher|       publishedDate|            infoLink|          categories|        ratingsCount|\n",
      "+-------+--------------------+--------------------+--------------------+--------------------+--------------------+--------------------+--------------------+--------------------+--------------------+--------------------+\n",
      "|  count|              212403|              144047|              181153|              161213|              188349|              139274|              186560|              188103|              171880|               63852|\n",
      "|   mean|   3823.672941176471|  1.4285714285714286|              1578.4|              1184.0|            Infinity|             3734.75|   1982.702933143332|   1989.054693877551|  1983.7334777898159|   56.31520537852275|\n",
      "| stddev|  10717.999589636447|  0.9759000729485332|  1278.7901502106834|   959.3546076180041|                 NaN|  10193.316327911616|   37.65620052385513|   94.83861134693093|  142.43423125699238|  329.20879859753734|\n",
      "|    min|  \"\"\" Film technique|              \"\" and| \"\" \"\"I'm a Littl...| \"\" \"\"In Honor of...| \"\" \"\"The Barefoo...| \"\" \"\"Skipper Ire...| \"\" \"\"Cruising fo...| \"\" Rawlins says....| \"\" Knox's quirky...| !Buscalo!'s easy...|\n",
      "|    max|you can do anythi...|�Una novela llam�...|” “Jeanie with th...|” “sexual napalm…...|” headlines eight...|                펜립|” which is anthol...|        秀和システム|�� folk art is a ...|              谷月社|\n",
      "+-------+--------------------+--------------------+--------------------+--------------------+--------------------+--------------------+--------------------+--------------------+--------------------+--------------------+\n",
      "\n"
     ]
    }
   ],
   "source": [
    "\n",
    "books_data_df.describe().show()"
   ]
  },
  {
   "cell_type": "code",
   "execution_count": 8,
   "id": "9eea18c8-2d4e-4f39-906b-44ec1affae05",
   "metadata": {},
   "outputs": [
    {
     "name": "stdout",
     "output_type": "stream",
     "text": [
      "Number of null values in each column:\n",
      "Title: 1\n",
      "description: 68357\n",
      "authors: 31251\n",
      "image: 51191\n",
      "previewLink: 24055\n",
      "publisher: 73130\n",
      "publishedDate: 25844\n",
      "infoLink: 24301\n",
      "categories: 40524\n",
      "ratingsCount: 148552\n"
     ]
    }
   ],
   "source": [
    "from pyspark.sql import SparkSession\n",
    "from pyspark.sql.functions import col, sum as spark_sum\n",
    "\n",
    "# Count null values in each column\n",
    "null_counts = books_data_df.agg(*[spark_sum(col(c).isNull().cast(\"int\")).alias(c + '_null_count') for c in books_data_df.columns])\n",
    "\n",
    "# Collect the result as a single row\n",
    "null_counts_single_row = null_counts.collect()[0]\n",
    "\n",
    "# Show the result\n",
    "print(\"Number of null values in each column:\")\n",
    "for col_name in books_data_df.columns:\n",
    "    print(f\"{col_name}: {null_counts_single_row[col_name + '_null_count']}\")"
   ]
  },
  {
   "cell_type": "code",
   "execution_count": 9,
   "id": "f6342d96-7181-43eb-bad3-e2173138b4d5",
   "metadata": {},
   "outputs": [
    {
     "name": "stdout",
     "output_type": "stream",
     "text": [
      "Most frequent value in column 'Title': \"\"\"Please\n",
      "Most frequent value in column 'description': None\n",
      "Most frequent value in column 'authors': None\n",
      "Most frequent value in column 'image': None\n",
      "Most frequent value in column 'previewLink': None\n",
      "Most frequent value in column 'publisher': None\n",
      "Most frequent value in column 'publishedDate': None\n",
      "Most frequent value in column 'infoLink': None\n",
      "Most frequent value in column 'categories': None\n",
      "Most frequent value in column 'ratingsCount': None\n"
     ]
    }
   ],
   "source": [
    "# List of columns to find most frequent values\n",
    "cols_to_check = [\"Title\", \"description\", \"authors\", \"image\", \"previewLink\", \"publisher\", \"publishedDate\", \"infoLink\", \"categories\", \"ratingsCount\"]\n",
    "\n",
    "# Find the most frequent value in each column\n",
    "most_frequent_values = []\n",
    "for col_name in cols_to_check:\n",
    "    mode_value = books_data_df.groupBy(col_name).count().orderBy(col(\"count\").desc()).select(col_name).first()[0]\n",
    "    most_frequent_values.append((col_name, mode_value))\n",
    "\n",
    "# Print the most frequent value in each column\n",
    "for col_name, value in most_frequent_values:\n",
    "    print(f\"Most frequent value in column '{col_name}': {value}\")"
   ]
  },
  {
   "cell_type": "code",
   "execution_count": 10,
   "id": "f0bdbc75-f9f9-47f0-b485-e159dc8cddf6",
   "metadata": {},
   "outputs": [
    {
     "name": "stdout",
     "output_type": "stream",
     "text": [
      "+--------------------+--------------------+--------------------+--------------------+--------------------+--------------------+--------------------+--------------------+--------------------+--------------------+\n",
      "|               Title|         description|             authors|               image|         previewLink|           publisher|       publishedDate|            infoLink|          categories|        ratingsCount|\n",
      "+--------------------+--------------------+--------------------+--------------------+--------------------+--------------------+--------------------+--------------------+--------------------+--------------------+\n",
      "|Its Only Art If I...|             Unknown|    ['Julie Strain']|http://books.goog...|http://books.goog...|             Unknown|                1996|http://books.goog...|['Comics & Graphi...|                null|\n",
      "|Dr. Seuss: Americ...|\"Philip Nel takes...| like that of Lew...| has changed lang...| giving us new wo...| inspiring artist...|      ['Philip Nel']|http://books.goog...|http://books.goog...|           A&C Black|\n",
      "|Wonderful Worship...|This resource inc...|    ['David R. Ray']|http://books.goog...|http://books.goog...|             Unknown|                2000|http://books.goog...|        ['Religion']|                null|\n",
      "|Whispers of the W...|Julia Thomas find...| ['Veronica Haddon']|http://books.goog...|http://books.goog...|           iUniverse|             2005-02|http://books.goog...|         ['Fiction']|                null|\n",
      "|Nation Dance: Rel...|             Unknown|     ['Edward Long']|       Not Available|http://books.goog...|             Unknown|          2003-03-01|http://books.goog...|             Unknown|                null|\n",
      "|The Church of Chr...|In The Church of ...|['Everett Ferguson']|http://books.goog...|http://books.goog...|Wm. B. Eerdmans P...|                1996|http://books.goog...|        ['Religion']|                 5.0|\n",
      "|The Overbury affa...|             Unknown|['Miriam Allen De...|       Not Available|http://books.goog...|             Unknown|                1960|http://books.goog...|             Unknown|                null|\n",
      "|A Walk in the Woo...|             Unknown|    ['Lee Blessing']|       Not Available|http://books.goog...|             Unknown|                1988|http://books.goog...|             Unknown|                 3.0|\n",
      "|Saint Hyacinth of...|The story for chi...|['Mary Fabyan Win...|http://books.goog...|http://books.goog...|     Tan Books & Pub|          2009-01-01|http://books.goog...|['Biography & Aut...|                null|\n",
      "|Rising Sons and D...|Wardell recalls h...|  ['Steven Wardell']|       Not Available|http://books.goog...|  Plympton PressIntl|                1995|http://books.goog...|  ['Social Science']|                null|\n",
      "|Muslim Women's Ch...|Counters the West...|['Camillia Fawzi ...|http://books.goog...|http://books.goog...|    Berg Pub Limited|          1994-02-17|http://books.goog...|        ['Religion']|                null|\n",
      "|Dramatica for Scr...|Dramatica for Scr...|['Armando Salda A...|http://books.goog...|http://books.goog...|             Unknown|             2005-07|http://books.goog...|       ['Reference']|                null|\n",
      "|Mensa Number Puzz...|Acclaimed teacher...|['Evelyn B. Chris...|http://books.goog...|http://books.goog...|            Sky Pony|          2018-11-06|http://books.goog...|['Juvenile Nonfic...|                null|\n",
      "|Vector Quantizati...|\"Herb Caen, a pop...| but the statemen...|              i. e. | data compression...|               audio|              images| and video signal...|['Allen Gersho', ...|http://books.goog...|\n",
      "|A husband for Kutani|First published i...|      ['Frank Owen']|http://books.goog...|http://books.goog...|Pickle Partners P...|          2018-02-27|https://play.goog...|         ['History']|                null|\n",
      "| Gold and greenstone|Sally did most th...|     ['Barry Crump']|       Not Available|http://books.goog...|             Unknown|                2009|http://books.goog...|['New Zealand fic...|                null|\n",
      "|\"The Ultimate Gui...|This collection b...|    ['Fiona Cownie']|http://books.goog...|http://books.goog...|Bloomsbury Publis...|          2010-01-28|https://play.goog...|             ['Law']|                null|\n",
      "|The Repeal of Ret...|\"At a time when A...|       sex educators| and novelists—fr...| Gurstein offers ...|['Rochelle Gurste...|http://books.goog...|http://books.goog...|       Hill and Wang|          2016-01-05|\n",
      "|Overcoming Hypert...|Like a time bomb ...|['Kenneth H. Coop...|http://books.goog...|http://books.goog...|              Bantam|          2012-02-01|https://play.goog...|['Health & Fitness']|                null|\n",
      "|    Alaska Sourdough|\"\"\"Sourdough is a...| as author Ruth A...| this book includ...| three days to on...| there are more t...| loads of time-te...| and plenty of lo...| there are recipe...|     ['Ruth Allman']|\n",
      "+--------------------+--------------------+--------------------+--------------------+--------------------+--------------------+--------------------+--------------------+--------------------+--------------------+\n",
      "only showing top 20 rows\n",
      "\n"
     ]
    }
   ],
   "source": [
    "# Fill missing values with a default value\n",
    "default_value = \"Unknown\"\n",
    "books_data_df = books_data_df.fillna(default_value, subset=['Title', 'description','publisher','authors','categories'])\n",
    "default_value2 = \"Not Available\"\n",
    "books_data_df= books_data_df.fillna(default_value2, subset=['image', 'previewLink','infoLink'])\n",
    "books_data_df.show()"
   ]
  },
  {
   "cell_type": "code",
   "execution_count": 11,
   "id": "af2fa345-2df8-47b6-aaf4-48d86e30463e",
   "metadata": {},
   "outputs": [
    {
     "name": "stdout",
     "output_type": "stream",
     "text": [
      "Null percentage in column 'Title': 0.00%\n",
      "Null percentage in column 'description': 0.00%\n",
      "Null percentage in column 'authors': 0.00%\n",
      "Null percentage in column 'image': 0.00%\n",
      "Null percentage in column 'previewLink': 0.00%\n",
      "Null percentage in column 'publisher': 0.00%\n",
      "Null percentage in column 'publishedDate': 12.17%\n",
      "Null percentage in column 'infoLink': 0.00%\n",
      "Null percentage in column 'categories': 0.00%\n",
      "Null percentage in column 'ratingsCount': 69.94%\n"
     ]
    }
   ],
   "source": [
    "from pyspark.sql import SparkSession\n",
    "from pyspark.sql.functions import col\n",
    "total_rows = books_data_df.count()\n",
    "null_percentages = []\n",
    "for col_name in books_data_df.columns:\n",
    "    null_count = books_data_df.where(col(col_name).isNull()).count()\n",
    "    null_percentage = (null_count / total_rows) * 100\n",
    "    null_percentages.append((col_name, null_percentage))\n",
    "\n",
    "# Print null percentages\n",
    "for col_name, percentage in null_percentages:\n",
    "    print(f\"Null percentage in column '{col_name}': {percentage:.2f}%\")"
   ]
  },
  {
   "cell_type": "code",
   "execution_count": 12,
   "id": "51d2b3f3-b867-40ad-9034-48fd7c16f290",
   "metadata": {},
   "outputs": [],
   "source": [
    "threshold = 0.5  # Drop columns with more than 50% null values\n",
    "books_data_df = books_data_df.drop(*[c for c in books_data_df.columns if books_data_df.where(col(c).isNull()).count() / books_data_df.count() > threshold])"
   ]
  },
  {
   "cell_type": "code",
   "execution_count": 13,
   "id": "3434dfa5-9290-463f-8a41-6f5e8863c691",
   "metadata": {},
   "outputs": [
    {
     "name": "stdout",
     "output_type": "stream",
     "text": [
      "After conversion:\n",
      "+--------------------+--------------------+--------------------+--------------------+--------------------+--------------------+-------------+--------------------+--------------------+\n",
      "|               Title|         description|             authors|               image|         previewLink|           publisher|publishedDate|            infoLink|          categories|\n",
      "+--------------------+--------------------+--------------------+--------------------+--------------------+--------------------+-------------+--------------------+--------------------+\n",
      "|Its Only Art If I...|             Unknown|    ['Julie Strain']|http://books.goog...|http://books.goog...|             Unknown|         null|http://books.goog...|['Comics & Graphi...|\n",
      "|Dr. Seuss: Americ...|\"Philip Nel takes...| like that of Lew...| has changed lang...| giving us new wo...| inspiring artist...|         null|http://books.goog...|http://books.goog...|\n",
      "|Wonderful Worship...|This resource inc...|    ['David R. Ray']|http://books.goog...|http://books.goog...|             Unknown|         null|http://books.goog...|        ['Religion']|\n",
      "|Whispers of the W...|Julia Thomas find...| ['Veronica Haddon']|http://books.goog...|http://books.goog...|           iUniverse|         null|http://books.goog...|         ['Fiction']|\n",
      "|Nation Dance: Rel...|             Unknown|     ['Edward Long']|       Not Available|http://books.goog...|             Unknown|   2003-03-01|http://books.goog...|             Unknown|\n",
      "|The Church of Chr...|In The Church of ...|['Everett Ferguson']|http://books.goog...|http://books.goog...|Wm. B. Eerdmans P...|         null|http://books.goog...|        ['Religion']|\n",
      "|The Overbury affa...|             Unknown|['Miriam Allen De...|       Not Available|http://books.goog...|             Unknown|         null|http://books.goog...|             Unknown|\n",
      "|A Walk in the Woo...|             Unknown|    ['Lee Blessing']|       Not Available|http://books.goog...|             Unknown|         null|http://books.goog...|             Unknown|\n",
      "|Saint Hyacinth of...|The story for chi...|['Mary Fabyan Win...|http://books.goog...|http://books.goog...|     Tan Books & Pub|   2009-01-01|http://books.goog...|['Biography & Aut...|\n",
      "|Rising Sons and D...|Wardell recalls h...|  ['Steven Wardell']|       Not Available|http://books.goog...|  Plympton PressIntl|         null|http://books.goog...|  ['Social Science']|\n",
      "|Muslim Women's Ch...|Counters the West...|['Camillia Fawzi ...|http://books.goog...|http://books.goog...|    Berg Pub Limited|   1994-02-17|http://books.goog...|        ['Religion']|\n",
      "|Dramatica for Scr...|Dramatica for Scr...|['Armando Salda A...|http://books.goog...|http://books.goog...|             Unknown|         null|http://books.goog...|       ['Reference']|\n",
      "|Mensa Number Puzz...|Acclaimed teacher...|['Evelyn B. Chris...|http://books.goog...|http://books.goog...|            Sky Pony|   2018-11-06|http://books.goog...|['Juvenile Nonfic...|\n",
      "|Vector Quantizati...|\"Herb Caen, a pop...| but the statemen...|              i. e. | data compression...|               audio|         null| and video signal...|['Allen Gersho', ...|\n",
      "|A husband for Kutani|First published i...|      ['Frank Owen']|http://books.goog...|http://books.goog...|Pickle Partners P...|   2018-02-27|https://play.goog...|         ['History']|\n",
      "| Gold and greenstone|Sally did most th...|     ['Barry Crump']|       Not Available|http://books.goog...|             Unknown|         null|http://books.goog...|['New Zealand fic...|\n",
      "|\"The Ultimate Gui...|This collection b...|    ['Fiona Cownie']|http://books.goog...|http://books.goog...|Bloomsbury Publis...|   2010-01-28|https://play.goog...|             ['Law']|\n",
      "|The Repeal of Ret...|\"At a time when A...|       sex educators| and novelists—fr...| Gurstein offers ...|['Rochelle Gurste...|         null|http://books.goog...|       Hill and Wang|\n",
      "|Overcoming Hypert...|Like a time bomb ...|['Kenneth H. Coop...|http://books.goog...|http://books.goog...|              Bantam|   2012-02-01|https://play.goog...|['Health & Fitness']|\n",
      "|    Alaska Sourdough|\"\"\"Sourdough is a...| as author Ruth A...| this book includ...| three days to on...| there are more t...|         null| and plenty of lo...| there are recipe...|\n",
      "+--------------------+--------------------+--------------------+--------------------+--------------------+--------------------+-------------+--------------------+--------------------+\n",
      "only showing top 20 rows\n",
      "\n"
     ]
    }
   ],
   "source": [
    "from pyspark.sql.functions import col, to_date\n",
    "\n",
    "# Convert 'publishedDate' column to DateType\n",
    "books_data_df = books_data_df.withColumn('publishedDate', to_date(col('publishedDate'), 'yyyy-MM-dd'))\n",
    "\n",
    "# Show the DataFrame after conversion\n",
    "print(\"After conversion:\")\n",
    "books_data_df.show()"
   ]
  },
  {
   "cell_type": "code",
   "execution_count": 14,
   "id": "f348a4db-7abd-4fa6-b975-c4f2f407ba0d",
   "metadata": {
    "scrolled": true
   },
   "outputs": [
    {
     "name": "stdout",
     "output_type": "stream",
     "text": [
      "root\n",
      " |-- Title: string (nullable = false)\n",
      " |-- description: string (nullable = false)\n",
      " |-- authors: string (nullable = false)\n",
      " |-- image: string (nullable = false)\n",
      " |-- previewLink: string (nullable = false)\n",
      " |-- publisher: string (nullable = false)\n",
      " |-- publishedDate: date (nullable = true)\n",
      " |-- infoLink: string (nullable = false)\n",
      " |-- categories: string (nullable = false)\n",
      "\n"
     ]
    }
   ],
   "source": [
    "\n",
    "books_data_df.printSchema()"
   ]
  },
  {
   "cell_type": "code",
   "execution_count": 15,
   "id": "f5332347-3499-45dd-89a3-4e3dfe00ce64",
   "metadata": {},
   "outputs": [
    {
     "name": "stdout",
     "output_type": "stream",
     "text": [
      "+--------------------+--------------------+--------------------+--------------------+--------------------+--------------------+-------------+--------------------+--------------------+\n",
      "|               Title|         description|             authors|               image|         previewLink|           publisher|publishedDate|            infoLink|          categories|\n",
      "+--------------------+--------------------+--------------------+--------------------+--------------------+--------------------+-------------+--------------------+--------------------+\n",
      "|Its Only Art If I...|             Unknown|    ['Julie Strain']|http://books.goog...|http://books.goog...|             Unknown|   2022-06-01|http://books.goog...|['Comics & Graphi...|\n",
      "|Dr. Seuss: Americ...|\"Philip Nel takes...| like that of Lew...| has changed lang...| giving us new wo...| inspiring artist...|   2022-06-01|http://books.goog...|http://books.goog...|\n",
      "|Wonderful Worship...|This resource inc...|    ['David R. Ray']|http://books.goog...|http://books.goog...|             Unknown|   2022-06-01|http://books.goog...|        ['Religion']|\n",
      "|Whispers of the W...|Julia Thomas find...| ['Veronica Haddon']|http://books.goog...|http://books.goog...|           iUniverse|   2022-06-01|http://books.goog...|         ['Fiction']|\n",
      "|Nation Dance: Rel...|             Unknown|     ['Edward Long']|       Not Available|http://books.goog...|             Unknown|   2003-03-01|http://books.goog...|             Unknown|\n",
      "|The Church of Chr...|In The Church of ...|['Everett Ferguson']|http://books.goog...|http://books.goog...|Wm. B. Eerdmans P...|   2022-06-01|http://books.goog...|        ['Religion']|\n",
      "|The Overbury affa...|             Unknown|['Miriam Allen De...|       Not Available|http://books.goog...|             Unknown|   2022-06-01|http://books.goog...|             Unknown|\n",
      "|A Walk in the Woo...|             Unknown|    ['Lee Blessing']|       Not Available|http://books.goog...|             Unknown|   2022-06-01|http://books.goog...|             Unknown|\n",
      "|Saint Hyacinth of...|The story for chi...|['Mary Fabyan Win...|http://books.goog...|http://books.goog...|     Tan Books & Pub|   2009-01-01|http://books.goog...|['Biography & Aut...|\n",
      "|Rising Sons and D...|Wardell recalls h...|  ['Steven Wardell']|       Not Available|http://books.goog...|  Plympton PressIntl|   2022-06-01|http://books.goog...|  ['Social Science']|\n",
      "|Muslim Women's Ch...|Counters the West...|['Camillia Fawzi ...|http://books.goog...|http://books.goog...|    Berg Pub Limited|   1994-02-17|http://books.goog...|        ['Religion']|\n",
      "|Dramatica for Scr...|Dramatica for Scr...|['Armando Salda A...|http://books.goog...|http://books.goog...|             Unknown|   2022-06-01|http://books.goog...|       ['Reference']|\n",
      "|Mensa Number Puzz...|Acclaimed teacher...|['Evelyn B. Chris...|http://books.goog...|http://books.goog...|            Sky Pony|   2018-11-06|http://books.goog...|['Juvenile Nonfic...|\n",
      "|Vector Quantizati...|\"Herb Caen, a pop...| but the statemen...|              i. e. | data compression...|               audio|   2022-06-01| and video signal...|['Allen Gersho', ...|\n",
      "|A husband for Kutani|First published i...|      ['Frank Owen']|http://books.goog...|http://books.goog...|Pickle Partners P...|   2018-02-27|https://play.goog...|         ['History']|\n",
      "| Gold and greenstone|Sally did most th...|     ['Barry Crump']|       Not Available|http://books.goog...|             Unknown|   2022-06-01|http://books.goog...|['New Zealand fic...|\n",
      "|\"The Ultimate Gui...|This collection b...|    ['Fiona Cownie']|http://books.goog...|http://books.goog...|Bloomsbury Publis...|   2010-01-28|https://play.goog...|             ['Law']|\n",
      "|The Repeal of Ret...|\"At a time when A...|       sex educators| and novelists—fr...| Gurstein offers ...|['Rochelle Gurste...|   2022-06-01|http://books.goog...|       Hill and Wang|\n",
      "|Overcoming Hypert...|Like a time bomb ...|['Kenneth H. Coop...|http://books.goog...|http://books.goog...|              Bantam|   2012-02-01|https://play.goog...|['Health & Fitness']|\n",
      "|    Alaska Sourdough|\"\"\"Sourdough is a...| as author Ruth A...| this book includ...| three days to on...| there are more t...|   2022-06-01| and plenty of lo...| there are recipe...|\n",
      "+--------------------+--------------------+--------------------+--------------------+--------------------+--------------------+-------------+--------------------+--------------------+\n",
      "only showing top 20 rows\n",
      "\n"
     ]
    }
   ],
   "source": [
    "from pyspark.sql.functions import when\n",
    "default_value = \"2022-06-01\"\n",
    "# Fill null values in 'publishedDate' column with the default value\n",
    "books_data_df = books_data_df.withColumn('publishedDate', when(books_data_df.publishedDate.isNull(), default_value).otherwise(books_data_df.publishedDate))\n",
    "# Show the DataFrame after filling\n",
    "books_data_df.show()\n"
   ]
  },
  {
   "cell_type": "code",
   "execution_count": 16,
   "id": "4bb1df5a-54ff-4771-a9f9-0392cb768940",
   "metadata": {},
   "outputs": [
    {
     "name": "stdout",
     "output_type": "stream",
     "text": [
      "+--------------------+--------------------+--------------------+--------------------+--------------------+--------------------+--------------+--------------------+--------------------+\n",
      "|               Title|         description|             authors|               image|        preview_Link|           publisher|published_Date|           info_Link|          categories|\n",
      "+--------------------+--------------------+--------------------+--------------------+--------------------+--------------------+--------------+--------------------+--------------------+\n",
      "|Its Only Art If I...|             Unknown|    ['Julie Strain']|http://books.goog...|http://books.goog...|             Unknown|    2022-06-01|http://books.goog...|['Comics & Graphi...|\n",
      "|Dr. Seuss: Americ...|\"Philip Nel takes...| like that of Lew...| has changed lang...| giving us new wo...| inspiring artist...|    2022-06-01|http://books.goog...|http://books.goog...|\n",
      "|Wonderful Worship...|This resource inc...|    ['David R. Ray']|http://books.goog...|http://books.goog...|             Unknown|    2022-06-01|http://books.goog...|        ['Religion']|\n",
      "|Whispers of the W...|Julia Thomas find...| ['Veronica Haddon']|http://books.goog...|http://books.goog...|           iUniverse|    2022-06-01|http://books.goog...|         ['Fiction']|\n",
      "|Nation Dance: Rel...|             Unknown|     ['Edward Long']|       Not Available|http://books.goog...|             Unknown|    2003-03-01|http://books.goog...|             Unknown|\n",
      "|The Church of Chr...|In The Church of ...|['Everett Ferguson']|http://books.goog...|http://books.goog...|Wm. B. Eerdmans P...|    2022-06-01|http://books.goog...|        ['Religion']|\n",
      "|The Overbury affa...|             Unknown|['Miriam Allen De...|       Not Available|http://books.goog...|             Unknown|    2022-06-01|http://books.goog...|             Unknown|\n",
      "|A Walk in the Woo...|             Unknown|    ['Lee Blessing']|       Not Available|http://books.goog...|             Unknown|    2022-06-01|http://books.goog...|             Unknown|\n",
      "|Saint Hyacinth of...|The story for chi...|['Mary Fabyan Win...|http://books.goog...|http://books.goog...|     Tan Books & Pub|    2009-01-01|http://books.goog...|['Biography & Aut...|\n",
      "|Rising Sons and D...|Wardell recalls h...|  ['Steven Wardell']|       Not Available|http://books.goog...|  Plympton PressIntl|    2022-06-01|http://books.goog...|  ['Social Science']|\n",
      "|Muslim Women's Ch...|Counters the West...|['Camillia Fawzi ...|http://books.goog...|http://books.goog...|    Berg Pub Limited|    1994-02-17|http://books.goog...|        ['Religion']|\n",
      "|Dramatica for Scr...|Dramatica for Scr...|['Armando Salda A...|http://books.goog...|http://books.goog...|             Unknown|    2022-06-01|http://books.goog...|       ['Reference']|\n",
      "|Mensa Number Puzz...|Acclaimed teacher...|['Evelyn B. Chris...|http://books.goog...|http://books.goog...|            Sky Pony|    2018-11-06|http://books.goog...|['Juvenile Nonfic...|\n",
      "|Vector Quantizati...|\"Herb Caen, a pop...| but the statemen...|              i. e. | data compression...|               audio|    2022-06-01| and video signal...|['Allen Gersho', ...|\n",
      "|A husband for Kutani|First published i...|      ['Frank Owen']|http://books.goog...|http://books.goog...|Pickle Partners P...|    2018-02-27|https://play.goog...|         ['History']|\n",
      "| Gold and greenstone|Sally did most th...|     ['Barry Crump']|       Not Available|http://books.goog...|             Unknown|    2022-06-01|http://books.goog...|['New Zealand fic...|\n",
      "|\"The Ultimate Gui...|This collection b...|    ['Fiona Cownie']|http://books.goog...|http://books.goog...|Bloomsbury Publis...|    2010-01-28|https://play.goog...|             ['Law']|\n",
      "|The Repeal of Ret...|\"At a time when A...|       sex educators| and novelists—fr...| Gurstein offers ...|['Rochelle Gurste...|    2022-06-01|http://books.goog...|       Hill and Wang|\n",
      "|Overcoming Hypert...|Like a time bomb ...|['Kenneth H. Coop...|http://books.goog...|http://books.goog...|              Bantam|    2012-02-01|https://play.goog...|['Health & Fitness']|\n",
      "|    Alaska Sourdough|\"\"\"Sourdough is a...| as author Ruth A...| this book includ...| three days to on...| there are more t...|    2022-06-01| and plenty of lo...| there are recipe...|\n",
      "+--------------------+--------------------+--------------------+--------------------+--------------------+--------------------+--------------+--------------------+--------------------+\n",
      "only showing top 20 rows\n",
      "\n"
     ]
    }
   ],
   "source": [
    "\n",
    "books_data_df = books_data_df.withColumnRenamed('previewLink', 'preview_Link') \\\n",
    "                             .withColumnRenamed('publishedDate', 'published_Date')\\\n",
    "                              .withColumnRenamed('infoLink', 'info_Link')\n",
    "\n",
    "books_data_df.show()\n"
   ]
  },
  {
   "cell_type": "code",
   "execution_count": 17,
   "id": "1f204b98-0f28-4dd8-906d-a0bc3a3694a3",
   "metadata": {
    "scrolled": true
   },
   "outputs": [
    {
     "name": "stdout",
     "output_type": "stream",
     "text": [
      "Before drop dublication: 212404\n",
      "After drop dublication: 212404\n"
     ]
    }
   ],
   "source": [
    "print(\"Before drop dublication:\",books_data_df.count())\n",
    "books_data_df.dropDuplicates()\n",
    "print(\"After drop dublication:\",books_data_df.count())"
   ]
  },
  {
   "cell_type": "code",
   "execution_count": 18,
   "id": "61f68f6b-65bc-46ca-8d43-28a7a6e396cf",
   "metadata": {},
   "outputs": [
    {
     "name": "stdout",
     "output_type": "stream",
     "text": [
      "+-------------+\n",
      "|unique_Titles|\n",
      "+-------------+\n",
      "|       212400|\n",
      "+-------------+\n",
      "\n",
      "+-----------------+\n",
      "|unique_categories|\n",
      "+-----------------+\n",
      "|            28362|\n",
      "+-----------------+\n",
      "\n"
     ]
    }
   ],
   "source": [
    "from pyspark.sql import functions as F\n",
    "# Count the number of unique states\n",
    "unique_states_df = books_data_df.agg(F.countDistinct(\"Title\").alias(\"unique_Titles\"))\n",
    "unique_states_df.show()\n",
    "# Count the number of unique cities\n",
    "unique_cities_df = books_data_df.agg(F.countDistinct(\"categories\").alias(\"unique_categories\"))\n",
    "unique_cities_df.show()"
   ]
  },
  {
   "cell_type": "code",
   "execution_count": 19,
   "id": "abcd1af5-e6e6-4e7d-9bac-dfd5cf41521d",
   "metadata": {},
   "outputs": [
    {
     "name": "stdout",
     "output_type": "stream",
     "text": [
      "+--------------------+-----+\n",
      "|             authors|count|\n",
      "+--------------------+-----+\n",
      "|  ['Barbara Melosh']|    1|\n",
      "|    ['Donald Cline']|    1|\n",
      "|     ['Dian Layton']|    2|\n",
      "| ['Sergius Golowin']|    1|\n",
      "|       ['Kotoyama,']|    1|\n",
      "|   ['Joseph Kerman']|    1|\n",
      "|     ['Kay Flowers']|    1|\n",
      "|     ['John Rewald']|    3|\n",
      "|\"\" To a very stro...|    1|\n",
      "|['I. Ristic', 'Ia...|    1|\n",
      "|['Andrew P. Tobias']|    3|\n",
      "|['Judith Ennamora...|    2|\n",
      "|['Jamgon Kongtrul...|    1|\n",
      "|['Frank Miller', ...|    1|\n",
      "|['National Resear...|    1|\n",
      "| all of whom were...|    1|\n",
      "|['William B. Park...|    1|\n",
      "|      ['Max Fogiel']|    3|\n",
      "|      ['Jules Bass']|    1|\n",
      "|  ['Rebecca Harvin']|    1|\n",
      "+--------------------+-----+\n",
      "only showing top 20 rows\n",
      "\n",
      "+--------------------+-----+\n",
      "|           publisher|count|\n",
      "+--------------------+-----+\n",
      "|        Lorenz Books|   22|\n",
      "|       The New Press|   15|\n",
      "|Janes Information...|    7|\n",
      "|National Committe...|    1|\n",
      "|            Capstone|   82|\n",
      "|          Soma Books|    5|\n",
      "| perhaps the most...|    1|\n",
      "|University Roches...|   16|\n",
      "| and through his ...|    2|\n",
      "|http://books.goog...|    1|\n",
      "|      Celestial Arts|   39|\n",
      "|French & European...|    2|\n",
      "|Arcadia Publishin...|    3|\n",
      "| and cultural iss...|    1|\n",
      "|   Ssar Publications|    1|\n",
      "|    Random House LLC|   11|\n",
      "|['Joseph Henry Ja...|    2|\n",
      "|http://books.goog...|    1|\n",
      "|  Instructional Fair|    8|\n",
      "|['Erwin Schroding...|    2|\n",
      "+--------------------+-----+\n",
      "only showing top 20 rows\n",
      "\n",
      "+--------------------+-----+\n",
      "|             authors|count|\n",
      "+--------------------+-----+\n",
      "|  ['Barbara Melosh']|    1|\n",
      "|    ['Donald Cline']|    1|\n",
      "|     ['Dian Layton']|    2|\n",
      "| ['Sergius Golowin']|    1|\n",
      "|       ['Kotoyama,']|    1|\n",
      "|   ['Joseph Kerman']|    1|\n",
      "|     ['Kay Flowers']|    1|\n",
      "|     ['John Rewald']|    3|\n",
      "|\"\" To a very stro...|    1|\n",
      "|['I. Ristic', 'Ia...|    1|\n",
      "|['Andrew P. Tobias']|    3|\n",
      "|['Judith Ennamora...|    2|\n",
      "|['Jamgon Kongtrul...|    1|\n",
      "|['Frank Miller', ...|    1|\n",
      "|['National Resear...|    1|\n",
      "| all of whom were...|    1|\n",
      "|['William B. Park...|    1|\n",
      "|      ['Max Fogiel']|    3|\n",
      "|      ['Jules Bass']|    1|\n",
      "|  ['Rebecca Harvin']|    1|\n",
      "+--------------------+-----+\n",
      "only showing top 20 rows\n",
      "\n",
      "+--------------------+-----+\n",
      "|           publisher|count|\n",
      "+--------------------+-----+\n",
      "|        Lorenz Books|   22|\n",
      "|       The New Press|   15|\n",
      "|Janes Information...|    7|\n",
      "|National Committe...|    1|\n",
      "|            Capstone|   82|\n",
      "|          Soma Books|    5|\n",
      "| perhaps the most...|    1|\n",
      "|University Roches...|   16|\n",
      "| and through his ...|    2|\n",
      "|http://books.goog...|    1|\n",
      "|      Celestial Arts|   39|\n",
      "|French & European...|    2|\n",
      "|Arcadia Publishin...|    3|\n",
      "| and cultural iss...|    1|\n",
      "|   Ssar Publications|    1|\n",
      "|    Random House LLC|   11|\n",
      "|['Joseph Henry Ja...|    2|\n",
      "|http://books.goog...|    1|\n",
      "|  Instructional Fair|    8|\n",
      "|['Erwin Schroding...|    2|\n",
      "+--------------------+-----+\n",
      "only showing top 20 rows\n",
      "\n"
     ]
    }
   ],
   "source": [
    "books_data_df.groupBy(\"authors\").count().show()\n",
    "books_data_df.groupBy(\"publisher\").count().show()\n",
    "books_data_df.groupBy(\"authors\").count().show()\n",
    "books_data_df.groupBy(\"publisher\").count().show()"
   ]
  },
  {
   "cell_type": "code",
   "execution_count": 20,
   "id": "bec83e16-16a5-4b6a-a3eb-13c6ce922752",
   "metadata": {},
   "outputs": [
    {
     "name": "stdout",
     "output_type": "stream",
     "text": [
      "+--------------------+--------------------+--------------------+--------------------+--------------------+--------------------+--------------+--------------------+--------------------+\n",
      "|               Title|         description|             authors|               image|        preview_Link|           publisher|published_Date|           info_Link|          categories|\n",
      "+--------------------+--------------------+--------------------+--------------------+--------------------+--------------------+--------------+--------------------+--------------------+\n",
      "|Its Only Art If I...|             Unknown|    ['Julie Strain']|http://books.goog...|http://books.goog...|             Unknown|    2022-06-01|http://books.goog...|['Comics & Graphi...|\n",
      "|Dr. Seuss: Americ...|\"Philip Nel takes...| like that of Lew...| has changed lang...| giving us new wo...| inspiring artist...|    2022-06-01|http://books.goog...|http://books.goog...|\n",
      "|Wonderful Worship...|This resource inc...|    ['David R. Ray']|http://books.goog...|http://books.goog...|             Unknown|    2022-06-01|http://books.goog...|        ['Religion']|\n",
      "|Whispers of the W...|Julia Thomas find...| ['Veronica Haddon']|http://books.goog...|http://books.goog...|           iUniverse|    2022-06-01|http://books.goog...|         ['Fiction']|\n",
      "|Nation Dance: Rel...|             Unknown|     ['Edward Long']|       Not Available|http://books.goog...|             Unknown|    2003-03-01|http://books.goog...|             Unknown|\n",
      "|The Church of Chr...|In The Church of ...|['Everett Ferguson']|http://books.goog...|http://books.goog...|Wm. B. Eerdmans P...|    2022-06-01|http://books.goog...|        ['Religion']|\n",
      "|The Overbury affa...|             Unknown|['Miriam Allen De...|       Not Available|http://books.goog...|             Unknown|    2022-06-01|http://books.goog...|             Unknown|\n",
      "|A Walk in the Woo...|             Unknown|    ['Lee Blessing']|       Not Available|http://books.goog...|             Unknown|    2022-06-01|http://books.goog...|             Unknown|\n",
      "|Saint Hyacinth of...|The story for chi...|['Mary Fabyan Win...|http://books.goog...|http://books.goog...|     Tan Books & Pub|    2009-01-01|http://books.goog...|['Biography & Aut...|\n",
      "|Rising Sons and D...|Wardell recalls h...|  ['Steven Wardell']|       Not Available|http://books.goog...|  Plympton PressIntl|    2022-06-01|http://books.goog...|  ['Social Science']|\n",
      "|Muslim Women's Ch...|Counters the West...|['Camillia Fawzi ...|http://books.goog...|http://books.goog...|    Berg Pub Limited|    1994-02-17|http://books.goog...|        ['Religion']|\n",
      "|Dramatica for Scr...|Dramatica for Scr...|['Armando Salda A...|http://books.goog...|http://books.goog...|             Unknown|    2022-06-01|http://books.goog...|       ['Reference']|\n",
      "|Mensa Number Puzz...|Acclaimed teacher...|['Evelyn B. Chris...|http://books.goog...|http://books.goog...|            Sky Pony|    2018-11-06|http://books.goog...|['Juvenile Nonfic...|\n",
      "|Vector Quantizati...|\"Herb Caen, a pop...| but the statemen...|              i. e. | data compression...|               audio|    2022-06-01| and video signal...|['Allen Gersho', ...|\n",
      "|A husband for Kutani|First published i...|      ['Frank Owen']|http://books.goog...|http://books.goog...|Pickle Partners P...|    2018-02-27|https://play.goog...|         ['History']|\n",
      "| Gold and greenstone|Sally did most th...|     ['Barry Crump']|       Not Available|http://books.goog...|             Unknown|    2022-06-01|http://books.goog...|['New Zealand fic...|\n",
      "|\"The Ultimate Gui...|This collection b...|    ['Fiona Cownie']|http://books.goog...|http://books.goog...|Bloomsbury Publis...|    2010-01-28|https://play.goog...|             ['Law']|\n",
      "|The Repeal of Ret...|\"At a time when A...|       sex educators| and novelists—fr...| Gurstein offers ...|['Rochelle Gurste...|    2022-06-01|http://books.goog...|       Hill and Wang|\n",
      "|Overcoming Hypert...|Like a time bomb ...|['Kenneth H. Coop...|http://books.goog...|http://books.goog...|              Bantam|    2012-02-01|https://play.goog...|['Health & Fitness']|\n",
      "|    Alaska Sourdough|\"\"\"Sourdough is a...| as author Ruth A...| this book includ...| three days to on...| there are more t...|    2022-06-01| and plenty of lo...| there are recipe...|\n",
      "+--------------------+--------------------+--------------------+--------------------+--------------------+--------------------+--------------+--------------------+--------------------+\n",
      "only showing top 20 rows\n",
      "\n"
     ]
    }
   ],
   "source": [
    "from pyspark.sql.functions import regexp_replace\n",
    "\n",
    "# Replace any links with an empty string in the publisher column\n",
    "cleaned_df = books_data_df.withColumn(\"publisher\", regexp_replace(\"publisher\", \"http[s]?://(?:[a-zA-Z]|[0-9]|[$-_@.&+]|[!*\\\\(\\\\),]|(?:%[0-9a-fA-F][0-9a-fA-F]))+\", \"\"))\n",
    "\n",
    "# Show the cleaned DataFrame\n",
    "cleaned_df.show()\n"
   ]
  },
  {
   "cell_type": "code",
   "execution_count": 21,
   "id": "2bcf8022-4b95-4fb6-8405-668adfe7fdf6",
   "metadata": {},
   "outputs": [
    {
     "name": "stdout",
     "output_type": "stream",
     "text": [
      "+--------------------+\n",
      "|unique_descriptiones|\n",
      "+--------------------+\n",
      "|              133257|\n",
      "+--------------------+\n",
      "\n",
      "+-----------------+\n",
      "|unique_publishers|\n",
      "+-----------------+\n",
      "|            34265|\n",
      "+-----------------+\n",
      "\n"
     ]
    }
   ],
   "source": [
    "from pyspark.sql import functions as F\n",
    "# Count the number of unique states\n",
    "unique_description_df =books_data_df.agg(F.countDistinct(\"description\").alias(\"unique_descriptiones\"))\n",
    "unique_description_df.show()\n",
    "# Count the number of unique cities\n",
    "unique_publisher_df = books_data_df.agg(F.countDistinct(\"publisher\").alias(\"unique_publishers\"))\n",
    "unique_publisher_df.show()"
   ]
  },
  {
   "cell_type": "code",
   "execution_count": 22,
   "id": "0b3ad7e6-bc22-477b-9f06-2eb18682765a",
   "metadata": {
    "scrolled": true
   },
   "outputs": [
    {
     "name": "stdout",
     "output_type": "stream",
     "text": [
      "+--------------------+--------------------+--------------------+--------------------+--------------------+--------------------+--------------+--------------------+--------------------+\n",
      "|               Title|         description|             authors|               image|        preview_Link|           publisher|published_Date|           info_Link|          categories|\n",
      "+--------------------+--------------------+--------------------+--------------------+--------------------+--------------------+--------------+--------------------+--------------------+\n",
      "|Open marriage;: A...|Advocates the imp...|  \"[\"\"Nena O'Neill\"\"| \"\"George O'Neill...|http://books.goog...|http://books.goog...|    2022-06-01|                1984|http://books.goog...|\n",
      "|Alternative Chica...|\"\"\"\"\"Alternative ...|         adventurous| or slightly offb...|      ['Bill Franz']|http://books.goog...|    2022-06-01|Cumberland House ...|          2004-03-01|\n",
      "|   The Unquiet Grave|\"This enduring cl...| no matter how ma...| will never have ...|  ['Cyril Connolly']|http://books.goog...|    2022-06-01|        Persea Books|             2011-11|\n",
      "|Muchas vidas, muc...|\"El doctor Brian ...|\"\" con sorprenden...|  ['Brian L. Weiss']|http://books.goog...|http://books.goog...|    2022-06-01|          2012-12-11|https://play.goog...|\n",
      "|Baseball Prospect...|\"Extensively upda...| intelligent comm...|['Jeff Bower', 'J...|http://books.goog...|http://books.goog...|    2022-06-01|             2000-12|http://books.goog...|\n",
      "|Born In Secret (F...|\"\"\"I've courted d...|  international spy\"|     ['Kylie Brant']|http://books.goog...|http://books.goog...|    2022-06-01|          2014-02-28|https://play.goog...|\n",
      "|    Family Tightrope|\"In recent years ...| and its hierarch...|    ['Nazli Kibria']|http://books.goog...|http://books.goog...|    2022-06-01|          1995-03-06|https://play.goog...|\n",
      "|Raising Gifted Ki...|\"Raising an extre...| and help them ma...|['Barbara Schave ...|http://books.goog...|http://books.goog...|    2022-06-01|                2007|http://books.goog...|\n",
      "|Spousal Support I...|\"Ever run into so...| based on persona...| only if both spo...|     ['Donna Fason']|http://books.goog...|    2022-06-01|       Not Available|             2004-01|\n",
      "|Advertising and a...|\"In this provocat...| resulting in red...|  ['C. Edwin Baker']|http://books.goog...|http://books.goog...|    2022-06-01|          2016-04-03|http://books.goog...|\n",
      "|Writing for Mysel...|\"Selections from ...| as well as perso...| national and int...|   ['Corrin Strong']|http://books.goog...|    2022-06-01|       Not Available|                2003|\n",
      "|     White Rock Ways|\"Enjoy free will,...|      family secrets| and the status o...|    ['Rae Crossmon']|http://books.goog...|    2022-06-01|        Rae Crossmon|          2013-09-01|\n",
      "|  Munchkins Remember|\"Profiles the num...| \"\" the film's stars| and their own li...|     ['Stephen Cox']|http://books.goog...|    2022-06-01|               Plume|                1989|\n",
      "|Get Ready! For St...|\"The objective of...|\"\" which your chi...|['Origins Publica...|http://books.goog...|http://books.goog...|    2022-06-01|          2018-10-28|http://books.goog...|\n",
      "|   Dragon Chronicles|\"\"\"You must go to...| Kaeldra already ...| much too dangero...|  ['Susan Fletcher']|http://books.goog...|    2022-06-01|  Simon and Schuster|          2009-11-24|\n",
      "|The Complete Wand...|\"For the first ti...|\"\" as well as suc...|['F. Marion Crawf...|http://books.goog...|http://books.goog...|    2022-06-01|                2002|http://books.goog...|\n",
      "|Religion, Power, ...|\"\"\"This work fill...|     in vivid detail| the dynamic reli...|['Robert L. Kapit...|http://books.goog...|    2022-06-01|       Not Available|                2001|\n",
      "|Movies, Masculini...|\"Argues that film...|            clothing| and gender subor...|['Steve Derne', '...|http://books.goog...|    2022-06-01|             Praeger|                2000|\n",
      "|Bermuda '99: The ...|Provides informat...|\"[\"\"Inc. Fodor's ...|       \"\"Fodor's\"\"]\"|http://books.goog...|http://books.goog...|    2022-06-01|          1999-01-15|http://books.goog...|\n",
      "|The Solar Home Bo...|\"\"\"All the inform...|              2022.\"|['Bruce Anderson'...|http://books.goog...|http://books.goog...|    2022-06-01|                1976|http://books.goog...|\n",
      "+--------------------+--------------------+--------------------+--------------------+--------------------+--------------------+--------------+--------------------+--------------------+\n",
      "only showing top 20 rows\n",
      "\n"
     ]
    }
   ],
   "source": [
    "from pyspark.sql import functions as F\n",
    "\n",
    "# Define the URL pattern for checking\n",
    "url_pattern = \"%http%\"\n",
    "\n",
    "# Filter the DataFrame based on the URL pattern in the publisher column\n",
    "url_publisher_df = books_data_df.filter(F.col(\"publisher\").like(url_pattern))\n",
    "url_publisher_df.show()\n"
   ]
  },
  {
   "cell_type": "code",
   "execution_count": 23,
   "id": "32abe42e-9fc6-4e82-8a35-61a7149e4f32",
   "metadata": {},
   "outputs": [
    {
     "name": "stdout",
     "output_type": "stream",
     "text": [
      "Number of URL values in the 'publisher' column: 5099\n"
     ]
    }
   ],
   "source": [
    "from pyspark.sql import functions as F\n",
    "\n",
    "# Define the URL pattern for checking\n",
    "url_pattern = \"%http%\"\n",
    "\n",
    "# Filter the DataFrame based on the URL pattern in the publisher column\n",
    "url_publisher_df = books_data_df.filter(F.col(\"publisher\").like(url_pattern))\n",
    "\n",
    "# Count the number of URL values in the publisher column\n",
    "url_count = url_publisher_df.count()\n",
    "print(\"Number of URL values in the 'publisher' column:\", url_count)\n"
   ]
  },
  {
   "cell_type": "code",
   "execution_count": 24,
   "id": "0d98a05d-57bd-4008-b57b-004fe6e400d9",
   "metadata": {},
   "outputs": [
    {
     "name": "stdout",
     "output_type": "stream",
     "text": [
      "+--------------------+--------------------+--------------------+--------------------+--------------------+--------------------+--------------+--------------------+--------------------+--------------------+\n",
      "|               Title|         description|             authors|               image|        preview_Link|           publisher|published_Date|           info_Link|          categories|    publisher_filled|\n",
      "+--------------------+--------------------+--------------------+--------------------+--------------------+--------------------+--------------+--------------------+--------------------+--------------------+\n",
      "|Its Only Art If I...|             Unknown|    ['Julie Strain']|http://books.goog...|http://books.goog...|             Unknown|    2022-06-01|http://books.goog...|['Comics & Graphi...|             Unknown|\n",
      "|Dr. Seuss: Americ...|\"Philip Nel takes...| like that of Lew...| has changed lang...| giving us new wo...| inspiring artist...|    2022-06-01|http://books.goog...|http://books.goog...| inspiring artist...|\n",
      "|Wonderful Worship...|This resource inc...|    ['David R. Ray']|http://books.goog...|http://books.goog...|             Unknown|    2022-06-01|http://books.goog...|        ['Religion']|             Unknown|\n",
      "|Whispers of the W...|Julia Thomas find...| ['Veronica Haddon']|http://books.goog...|http://books.goog...|           iUniverse|    2022-06-01|http://books.goog...|         ['Fiction']|           iUniverse|\n",
      "|Nation Dance: Rel...|             Unknown|     ['Edward Long']|       Not Available|http://books.goog...|             Unknown|    2003-03-01|http://books.goog...|             Unknown|             Unknown|\n",
      "|The Church of Chr...|In The Church of ...|['Everett Ferguson']|http://books.goog...|http://books.goog...|Wm. B. Eerdmans P...|    2022-06-01|http://books.goog...|        ['Religion']|Wm. B. Eerdmans P...|\n",
      "|The Overbury affa...|             Unknown|['Miriam Allen De...|       Not Available|http://books.goog...|             Unknown|    2022-06-01|http://books.goog...|             Unknown|             Unknown|\n",
      "|A Walk in the Woo...|             Unknown|    ['Lee Blessing']|       Not Available|http://books.goog...|             Unknown|    2022-06-01|http://books.goog...|             Unknown|             Unknown|\n",
      "|Saint Hyacinth of...|The story for chi...|['Mary Fabyan Win...|http://books.goog...|http://books.goog...|     Tan Books & Pub|    2009-01-01|http://books.goog...|['Biography & Aut...|     Tan Books & Pub|\n",
      "|Rising Sons and D...|Wardell recalls h...|  ['Steven Wardell']|       Not Available|http://books.goog...|  Plympton PressIntl|    2022-06-01|http://books.goog...|  ['Social Science']|  Plympton PressIntl|\n",
      "|Muslim Women's Ch...|Counters the West...|['Camillia Fawzi ...|http://books.goog...|http://books.goog...|    Berg Pub Limited|    1994-02-17|http://books.goog...|        ['Religion']|    Berg Pub Limited|\n",
      "|Dramatica for Scr...|Dramatica for Scr...|['Armando Salda A...|http://books.goog...|http://books.goog...|             Unknown|    2022-06-01|http://books.goog...|       ['Reference']|             Unknown|\n",
      "|Mensa Number Puzz...|Acclaimed teacher...|['Evelyn B. Chris...|http://books.goog...|http://books.goog...|            Sky Pony|    2018-11-06|http://books.goog...|['Juvenile Nonfic...|            Sky Pony|\n",
      "|Vector Quantizati...|\"Herb Caen, a pop...| but the statemen...|              i. e. | data compression...|               audio|    2022-06-01| and video signal...|['Allen Gersho', ...|               audio|\n",
      "|A husband for Kutani|First published i...|      ['Frank Owen']|http://books.goog...|http://books.goog...|Pickle Partners P...|    2018-02-27|https://play.goog...|         ['History']|Pickle Partners P...|\n",
      "| Gold and greenstone|Sally did most th...|     ['Barry Crump']|       Not Available|http://books.goog...|             Unknown|    2022-06-01|http://books.goog...|['New Zealand fic...|             Unknown|\n",
      "|\"The Ultimate Gui...|This collection b...|    ['Fiona Cownie']|http://books.goog...|http://books.goog...|Bloomsbury Publis...|    2010-01-28|https://play.goog...|             ['Law']|Bloomsbury Publis...|\n",
      "|The Repeal of Ret...|\"At a time when A...|       sex educators| and novelists—fr...| Gurstein offers ...|['Rochelle Gurste...|    2022-06-01|http://books.goog...|       Hill and Wang|['Rochelle Gurste...|\n",
      "|Overcoming Hypert...|Like a time bomb ...|['Kenneth H. Coop...|http://books.goog...|http://books.goog...|              Bantam|    2012-02-01|https://play.goog...|['Health & Fitness']|              Bantam|\n",
      "|    Alaska Sourdough|\"\"\"Sourdough is a...| as author Ruth A...| this book includ...| three days to on...| there are more t...|    2022-06-01| and plenty of lo...| there are recipe...| there are more t...|\n",
      "+--------------------+--------------------+--------------------+--------------------+--------------------+--------------------+--------------+--------------------+--------------------+--------------------+\n",
      "only showing top 20 rows\n",
      "\n"
     ]
    }
   ],
   "source": [
    "from pyspark.sql import functions as F\n",
    "\n",
    "# Define the URL pattern for checking\n",
    "url_pattern = \"%http%\"\n",
    "\n",
    "# Create a new column with the \"publisher\" column filled with \"Unknown\" for URL values\n",
    "filled_publisher_df = books_data_df.withColumn(\n",
    "    \"publisher_filled\",\n",
    "    F.when(F.col(\"publisher\").like(url_pattern), \"Unknown\").otherwise(F.col(\"publisher\"))\n",
    ")\n",
    "\n",
    "# Show the DataFrame with the filled values\n",
    "filled_publisher_df.show()\n"
   ]
  },
  {
   "cell_type": "code",
   "execution_count": 25,
   "id": "a7398a7a-6e6b-4443-8631-13cc1c477ac7",
   "metadata": {
    "scrolled": true
   },
   "outputs": [
    {
     "name": "stdout",
     "output_type": "stream",
     "text": [
      "+--------------------+-----+\n",
      "|    publisher_filled|count|\n",
      "+--------------------+-----+\n",
      "|        Lorenz Books|   22|\n",
      "|       The New Press|   15|\n",
      "|Janes Information...|    7|\n",
      "|National Committe...|    1|\n",
      "|            Capstone|   82|\n",
      "|          Soma Books|    5|\n",
      "| perhaps the most...|    1|\n",
      "|University Roches...|   16|\n",
      "| and through his ...|    2|\n",
      "|      Celestial Arts|   39|\n",
      "|French & European...|    2|\n",
      "|Arcadia Publishin...|    3|\n",
      "| and cultural iss...|    1|\n",
      "|   Ssar Publications|    1|\n",
      "|    Random House LLC|   11|\n",
      "|['Joseph Henry Ja...|    2|\n",
      "|  Instructional Fair|    8|\n",
      "|['Erwin Schroding...|    2|\n",
      "|John Benjamins Pu...|    8|\n",
      "|          Helen Hunt|    1|\n",
      "+--------------------+-----+\n",
      "only showing top 20 rows\n",
      "\n"
     ]
    }
   ],
   "source": [
    "from pyspark.sql import functions as F\n",
    "\n",
    "# Define the URL pattern for checking\n",
    "url_pattern = \"%http%\"\n",
    "\n",
    "# Create a new column with the \"publisher\" column filled with \"Unknown\" for URL values\n",
    "filled_publisher_df = books_data_df.withColumn(\n",
    "    \"publisher_filled\",\n",
    "    F.when(F.col(\"publisher\").like(url_pattern), \"Unknown\").otherwise(F.col(\"publisher\"))\n",
    ")\n",
    "\n",
    "# Group by the filled publisher column and count the occurrences of each distinct value\n",
    "publisher_counts_df = filled_publisher_df.groupBy(\"publisher_filled\").count()\n",
    "\n",
    "# Show the DataFrame with counts of each distinct value in the filled publisher column\n",
    "publisher_counts_df.show()\n"
   ]
  },
  {
   "cell_type": "code",
   "execution_count": 27,
   "id": "5c1c760b-45ea-4cbd-aa4f-6c6c4f0a67d5",
   "metadata": {},
   "outputs": [
    {
     "name": "stdout",
     "output_type": "stream",
     "text": [
      "+--------------------+-----+\n",
      "|               Title|count|\n",
      "+--------------------+-----+\n",
      "|Isaac Asimov: Mas...|    1|\n",
      "|     White Rock Ways|    1|\n",
      "|The Face of the T...|    1|\n",
      "|Your Signature Li...|    1|\n",
      "|     Iridescent Soul|    1|\n",
      "|L'Alchimiste (Cof...|    1|\n",
      "|  The Book of Garlic|    1|\n",
      "|A Jesse Stuart Ha...|    1|\n",
      "|Raymond Chandler:...|    1|\n",
      "|      Badenheim 1939|    1|\n",
      "|        Pagan Babies|    1|\n",
      "|The Self and its ...|    1|\n",
      "|The Educated Chil...|    1|\n",
      "|Future Perfect - ...|    1|\n",
      "|The cornet of hor...|    1|\n",
      "|Basic Arabic Work...|    1|\n",
      "|Organizational Th...|    1|\n",
      "|Oz and Beyond: Th...|    1|\n",
      "|Fundamentals of I...|    1|\n",
      "|We Love Baseball!...|    1|\n",
      "+--------------------+-----+\n",
      "only showing top 20 rows\n",
      "\n",
      "+----------------------+-----+\n",
      "|            categories|count|\n",
      "+----------------------+-----+\n",
      "|   Toronto Globe an...|    1|\n",
      "|       ['Arboviruses']|    1|\n",
      "|  \"[\"\"Children's so...|   11|\n",
      "|   Gopnik shows tha...|    1|\n",
      "|  ['Melanchthon, Ph...|    1|\n",
      "|   and always naked...|    1|\n",
      "|       ['Contentment']|    1|\n",
      "|          ['Barbados']|    2|\n",
      "|  https://play.goog...|    1|\n",
      "|       ['Art, Modern']|   15|\n",
      "|   the Kongo of Low...|    1|\n",
      "|  http://books.goog...|    1|\n",
      "|  ['Boats and boati...|   28|\n",
      "| this fact. ▷ 참고:...|    1|\n",
      "|   ['Economic policy']|    4|\n",
      "|  ['Anthracite coal...|    2|\n",
      "|   Washington State...|    1|\n",
      "|            2019-08-22|    1|\n",
      "|  ['Gettysburg (Pa.)']|    1|\n",
      "|                 beans|    1|\n",
      "+----------------------+-----+\n",
      "only showing top 20 rows\n",
      "\n"
     ]
    }
   ],
   "source": [
    "books_data_df.groupBy(\"Title\").count().show()\n",
    "books_data_df.groupBy(\"categories\").count().show()"
   ]
  },
  {
   "cell_type": "code",
   "execution_count": 28,
   "id": "8c5d6277-baf0-4b49-bd37-78565a3083a7",
   "metadata": {},
   "outputs": [
    {
     "name": "stdout",
     "output_type": "stream",
     "text": [
      "+--------------------+--------------------+--------------------+--------------------+--------------------+--------------------+--------------+--------------------+--------------------+\n",
      "|               Title|         description|             authors|               image|        preview_Link|           publisher|published_Date|           info_Link|          categories|\n",
      "+--------------------+--------------------+--------------------+--------------------+--------------------+--------------------+--------------+--------------------+--------------------+\n",
      "|Its Only Art If I...|             Unknown|    ['Julie Strain']|http://books.goog...|http://books.goog...|             Unknown|    2022-06-01|http://books.goog...|['Comics & Graphi...|\n",
      "|Wonderful Worship...|This resource inc...|    ['David R. Ray']|http://books.goog...|http://books.goog...|             Unknown|    2022-06-01|http://books.goog...|        ['Religion']|\n",
      "|Whispers of the W...|Julia Thomas find...| ['Veronica Haddon']|http://books.goog...|http://books.goog...|           iUniverse|    2022-06-01|http://books.goog...|         ['Fiction']|\n",
      "|Nation Dance: Rel...|             Unknown|     ['Edward Long']|       Not Available|http://books.goog...|             Unknown|    2003-03-01|http://books.goog...|             Unknown|\n",
      "|The Church of Chr...|In The Church of ...|['Everett Ferguson']|http://books.goog...|http://books.goog...|Wm. B. Eerdmans P...|    2022-06-01|http://books.goog...|        ['Religion']|\n",
      "|The Overbury affa...|             Unknown|['Miriam Allen De...|       Not Available|http://books.goog...|             Unknown|    2022-06-01|http://books.goog...|             Unknown|\n",
      "|A Walk in the Woo...|             Unknown|    ['Lee Blessing']|       Not Available|http://books.goog...|             Unknown|    2022-06-01|http://books.goog...|             Unknown|\n",
      "|Saint Hyacinth of...|The story for chi...|['Mary Fabyan Win...|http://books.goog...|http://books.goog...|     Tan Books & Pub|    2009-01-01|http://books.goog...|['Biography & Aut...|\n",
      "|Rising Sons and D...|Wardell recalls h...|  ['Steven Wardell']|       Not Available|http://books.goog...|  Plympton PressIntl|    2022-06-01|http://books.goog...|  ['Social Science']|\n",
      "|Muslim Women's Ch...|Counters the West...|['Camillia Fawzi ...|http://books.goog...|http://books.goog...|    Berg Pub Limited|    1994-02-17|http://books.goog...|        ['Religion']|\n",
      "|Dramatica for Scr...|Dramatica for Scr...|['Armando Salda A...|http://books.goog...|http://books.goog...|             Unknown|    2022-06-01|http://books.goog...|       ['Reference']|\n",
      "|Mensa Number Puzz...|Acclaimed teacher...|['Evelyn B. Chris...|http://books.goog...|http://books.goog...|            Sky Pony|    2018-11-06|http://books.goog...|['Juvenile Nonfic...|\n",
      "|Vector Quantizati...|\"Herb Caen, a pop...| but the statemen...|              i. e. | data compression...|               audio|    2022-06-01| and video signal...|['Allen Gersho', ...|\n",
      "|A husband for Kutani|First published i...|      ['Frank Owen']|http://books.goog...|http://books.goog...|Pickle Partners P...|    2018-02-27|https://play.goog...|         ['History']|\n",
      "| Gold and greenstone|Sally did most th...|     ['Barry Crump']|       Not Available|http://books.goog...|             Unknown|    2022-06-01|http://books.goog...|['New Zealand fic...|\n",
      "|\"The Ultimate Gui...|This collection b...|    ['Fiona Cownie']|http://books.goog...|http://books.goog...|Bloomsbury Publis...|    2010-01-28|https://play.goog...|             ['Law']|\n",
      "|The Repeal of Ret...|\"At a time when A...|       sex educators| and novelists—fr...| Gurstein offers ...|['Rochelle Gurste...|    2022-06-01|http://books.goog...|       Hill and Wang|\n",
      "|Overcoming Hypert...|Like a time bomb ...|['Kenneth H. Coop...|http://books.goog...|http://books.goog...|              Bantam|    2012-02-01|https://play.goog...|['Health & Fitness']|\n",
      "|    Alaska Sourdough|\"\"\"Sourdough is a...| as author Ruth A...| this book includ...| three days to on...| there are more t...|    2022-06-01| and plenty of lo...| there are recipe...|\n",
      "|The Oxford Handbo...|A guide to curren...|     ['Robert Kane']|http://books.goog...|http://books.goog...|             OUP USA|    2011-07-27|http://books.goog...|      ['Philosophy']|\n",
      "+--------------------+--------------------+--------------------+--------------------+--------------------+--------------------+--------------+--------------------+--------------------+\n",
      "only showing top 20 rows\n",
      "\n"
     ]
    }
   ],
   "source": [
    "from pyspark.sql import functions as F\n",
    "\n",
    "# Define the URL pattern for checking in the categories column\n",
    "url_pattern = \"%http%\"\n",
    "\n",
    "# Filter out rows with URL values in the categories column\n",
    "filtered_categories_df = books_data_df.filter(~F.col(\"categories\").like(url_pattern))\n",
    "\n",
    "# Show the DataFrame without rows containing URL values in the categories column\n",
    "filtered_categories_df.show()\n"
   ]
  },
  {
   "cell_type": "code",
   "execution_count": 29,
   "id": "741eefff-c13d-4523-8486-3522cd2284db",
   "metadata": {},
   "outputs": [
    {
     "name": "stdout",
     "output_type": "stream",
     "text": [
      "+-------------------+-------------------+\n",
      "|distinct_publishers|distinct_categories|\n",
      "+-------------------+-------------------+\n",
      "|              34265|              28362|\n",
      "+-------------------+-------------------+\n",
      "\n"
     ]
    }
   ],
   "source": [
    "distinct_counts_df = books_data_df.agg(\n",
    "    F.countDistinct(\"publisher\").alias(\"distinct_publishers\"),\n",
    "    F.countDistinct(\"categories\").alias(\"distinct_categories\")\n",
    ")\n",
    "\n",
    "distinct_counts_df.show()\n"
   ]
  },
  {
   "cell_type": "code",
   "execution_count": 33,
   "id": "9ca9358c-9026-4125-b860-e5f8e4f7e8f3",
   "metadata": {},
   "outputs": [
    {
     "name": "stdout",
     "output_type": "stream",
     "text": [
      "+--------------+-----+\n",
      "|published_Date|count|\n",
      "+--------------+-----+\n",
      "|    0101-01-01|    6|\n",
      "|    1016-10-11|    1|\n",
      "|    1869-01-01|    1|\n",
      "|    1894-01-01|    1|\n",
      "|    1900-01-01|    2|\n",
      "|    1908-01-01|    2|\n",
      "|    1909-09-01|    1|\n",
      "|    1911-11-01|    1|\n",
      "|    1913-04-15|    1|\n",
      "|    1916-10-13|    1|\n",
      "|    1920-03-31|    1|\n",
      "|    1920-06-15|    1|\n",
      "|    1921-12-15|    1|\n",
      "|    1924-01-31|    1|\n",
      "|    1926-01-01|    1|\n",
      "|    1927-01-01|    1|\n",
      "|    1929-01-01|    4|\n",
      "|    1930-05-27|    1|\n",
      "|    1931-12-12|    1|\n",
      "|    1932-01-01|    1|\n",
      "+--------------+-----+\n",
      "only showing top 20 rows\n",
      "\n"
     ]
    }
   ],
   "source": [
    "from pyspark.sql import SparkSession\n",
    "\n",
    "spark = SparkSession.builder \\\n",
    "    .appName(\"YourApp\") \\\n",
    "    .config(\"spark.sql.legacy.timeParserPolicy\", \"LEGACY\") \\\n",
    "    .getOrCreate()\n",
    "\n",
    "published_per_day = books_data_df.groupBy(\"published_Date\").count().orderBy(\"published_Date\")\n",
    "published_per_day.show() "
   ]
  },
  {
   "cell_type": "code",
   "execution_count": null,
   "id": "4222dc1a-c584-4915-8b42-5488969dedc9",
   "metadata": {},
   "outputs": [],
   "source": [
    "df_customers = df_customers.drop('country')\n",
    "df_customers.show()"
   ]
  },
  {
   "cell_type": "markdown",
   "id": "3df352e7-5efd-400f-8233-ddf61ae0cc9b",
   "metadata": {},
   "source": [
    "# Clean is done"
   ]
  }
 ],
 "metadata": {
  "kernelspec": {
   "display_name": "Python 3 (ipykernel)",
   "language": "python",
   "name": "python3"
  },
  "language_info": {
   "codemirror_mode": {
    "name": "ipython",
    "version": 3
   },
   "file_extension": ".py",
   "mimetype": "text/x-python",
   "name": "python",
   "nbconvert_exporter": "python",
   "pygments_lexer": "ipython3",
   "version": "3.11.7"
  }
 },
 "nbformat": 4,
 "nbformat_minor": 5
}
